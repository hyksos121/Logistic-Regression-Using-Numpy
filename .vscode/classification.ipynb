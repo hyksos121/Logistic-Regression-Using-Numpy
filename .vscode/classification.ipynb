{
 "cells": [
  {
   "cell_type": "markdown",
   "metadata": {},
   "source": [
    "# Main Imports and Functions\n"
   ]
  },
  {
   "cell_type": "code",
   "execution_count": 1,
   "metadata": {},
   "outputs": [],
   "source": [
    "import numpy as np\n",
    "import pandas as pd\n",
    "import matplotlib.pyplot as plt\n",
    "file1 = \"ex2data1.txt\"\n",
    "file2 = \"ex2data2.txt\""
   ]
  },
  {
   "cell_type": "code",
   "execution_count": 2,
   "metadata": {},
   "outputs": [],
   "source": [
    "def hypothesis(x):\n",
    "    return 1.0/(1+np.exp(-x))"
   ]
  },
  {
   "cell_type": "code",
   "execution_count": 3,
   "metadata": {},
   "outputs": [],
   "source": [
    "def costFunction(theta, X, y):\n",
    "    m = y.size\n",
    "    h = hypothesis(X @ theta)\n",
    "    if(h[0] == 0):\n",
    "        h[0] = 0.000001\n",
    "    \n",
    "    if(h[0] == 1):\n",
    "        h[0] = 0.999999 \n",
    "    c1 = y.T @ np.log(h)\n",
    "    c2 = (1-y).T @ (np.log(1 - h))\n",
    "\n",
    "    return -(c1 + c2)/m\n"
   ]
  },
  {
   "cell_type": "code",
   "execution_count": 4,
   "metadata": {},
   "outputs": [],
   "source": [
    "def regularizedCostFunction(theta, X, y, regularization_factor):\n",
    "    m = y.size\n",
    "    h = hypothesis(X.dot(theta))\n",
    "    res = 0.0\n",
    "    if(h[0] == 0):\n",
    "        h[0] = 0.000001\n",
    "    \n",
    "    if(h[0] == 1):\n",
    "        h[0] = 0.999999\n",
    "\n",
    "    c1 = y.T @ (np.log(h))\n",
    "    c2 = (1-y).T @ (np.log(1 - h))\n",
    "    rf = (regularization_factor/(2*m)) * np.sum(np.power(theta[1:], 2))\n",
    "    \n",
    "    res = (-(c1 + c2)/m) + rf\n",
    "        \n",
    "    return res\n"
   ]
  },
  {
   "cell_type": "code",
   "execution_count": 5,
   "metadata": {},
   "outputs": [],
   "source": [
    "def gradientDecent(theta, X, y, learning_rate, iterations):\n",
    "    m = y.size\n",
    "    cost_history = []\n",
    "    \n",
    "    i = 0\n",
    "    while (i < iterations):\n",
    "        prediction = hypothesis(X @ theta)\n",
    "\n",
    "        cost = costFunction(theta, X, y)\n",
    "        cost_history.append(cost[0])\n",
    "\n",
    "        derivative_cost = (1/m) * X.T @ (prediction - y)\n",
    "        theta = theta - learning_rate * derivative_cost\n",
    "        \n",
    "        i += 1\n",
    "\n",
    "    return theta, cost_history"
   ]
  },
  {
   "cell_type": "code",
   "execution_count": 6,
   "metadata": {},
   "outputs": [],
   "source": [
    "def regularizedGradientDecent(theta, X, y, learning_rate, iterations, regularization_factor):\n",
    "    m = y.size\n",
    "    cost_history = []\n",
    "    \n",
    "    i = 0\n",
    "    while (i < iterations):\n",
    "        prediction = hypothesis(X @ theta)\n",
    "\n",
    "        cost = regularizedCostFunction(theta, X, y, regularization_factor)\n",
    "        cost_history.append(cost[0])\n",
    "\n",
    "        derivative_cost = (1/m) * X.T @ (prediction - y)\n",
    "        theta = theta - (learning_rate * derivative_cost) + np.sum((regularization_factor/m) * np.r_[ [[0]], theta[1:]])\n",
    "        \n",
    "        i += 1\n",
    "\n",
    "    return theta, cost_history"
   ]
  },
  {
   "cell_type": "code",
   "execution_count": 7,
   "metadata": {},
   "outputs": [],
   "source": [
    "def map_features(x, y):\n",
    "    rows = x.size\n",
    "    degree = 6\n",
    "\n",
    "    res = np.c_[np.ones(rows), x, y, x*y]\n",
    "\n",
    "    for i in range(2, 7):\n",
    "        x1_pow = np.power(x, i)\n",
    "        x2_pow = np.power(y, i)\n",
    "        # for j in range(i):\n",
    "        #     x1x2 = x1_pow * np.power(y, j)\n",
    "        #     res = np.c_[res, x1x2]\n",
    "\n",
    "        x1x2 = x1_pow * x2_pow\n",
    "\n",
    "        res = np.c_[res, x1_pow, x2_pow, x1x2]\n",
    "\n",
    "    return res"
   ]
  },
  {
   "cell_type": "markdown",
   "metadata": {},
   "source": [
    "# Logistic Regression"
   ]
  },
  {
   "cell_type": "markdown",
   "metadata": {},
   "source": [
    "## Data Visualize"
   ]
  },
  {
   "cell_type": "code",
   "execution_count": 8,
   "metadata": {},
   "outputs": [
    {
     "data": {
      "text/html": [
       "<div>\n",
       "<style scoped>\n",
       "    .dataframe tbody tr th:only-of-type {\n",
       "        vertical-align: middle;\n",
       "    }\n",
       "\n",
       "    .dataframe tbody tr th {\n",
       "        vertical-align: top;\n",
       "    }\n",
       "\n",
       "    .dataframe thead th {\n",
       "        text-align: right;\n",
       "    }\n",
       "</style>\n",
       "<table border=\"1\" class=\"dataframe\">\n",
       "  <thead>\n",
       "    <tr style=\"text-align: right;\">\n",
       "      <th></th>\n",
       "      <th>Exam1</th>\n",
       "      <th>Exam2</th>\n",
       "      <th>Status</th>\n",
       "    </tr>\n",
       "  </thead>\n",
       "  <tbody>\n",
       "    <tr>\n",
       "      <th>0</th>\n",
       "      <td>34.623660</td>\n",
       "      <td>78.024693</td>\n",
       "      <td>0</td>\n",
       "    </tr>\n",
       "    <tr>\n",
       "      <th>1</th>\n",
       "      <td>30.286711</td>\n",
       "      <td>43.894998</td>\n",
       "      <td>0</td>\n",
       "    </tr>\n",
       "    <tr>\n",
       "      <th>2</th>\n",
       "      <td>35.847409</td>\n",
       "      <td>72.902198</td>\n",
       "      <td>0</td>\n",
       "    </tr>\n",
       "    <tr>\n",
       "      <th>3</th>\n",
       "      <td>60.182599</td>\n",
       "      <td>86.308552</td>\n",
       "      <td>1</td>\n",
       "    </tr>\n",
       "    <tr>\n",
       "      <th>4</th>\n",
       "      <td>79.032736</td>\n",
       "      <td>75.344376</td>\n",
       "      <td>1</td>\n",
       "    </tr>\n",
       "  </tbody>\n",
       "</table>\n",
       "</div>"
      ],
      "text/plain": [
       "       Exam1      Exam2  Status\n",
       "0  34.623660  78.024693       0\n",
       "1  30.286711  43.894998       0\n",
       "2  35.847409  72.902198       0\n",
       "3  60.182599  86.308552       1\n",
       "4  79.032736  75.344376       1"
      ]
     },
     "execution_count": 8,
     "metadata": {},
     "output_type": "execute_result"
    }
   ],
   "source": [
    "# Loading data\n",
    "\n",
    "df1 = pd.read_csv(file1, header= None)\n",
    "df1.columns = [\"Exam1\", \"Exam2\", \"Status\"]\n",
    "df1.head()"
   ]
  },
  {
   "cell_type": "code",
   "execution_count": 9,
   "metadata": {},
   "outputs": [
    {
     "data": {
      "image/png": "[encoded data removed]",
      "text/plain": [
       "<Figure size 432x288 with 1 Axes>"
      ]
     },
     "metadata": {
      "needs_background": "light"
     },
     "output_type": "display_data"
    }
   ],
   "source": [
    "# Ploatting Data\n",
    "\n",
    "# Rows with y = 0\n",
    "_mapped_x = df1.loc[df1[\"Status\"] == 0]\n",
    "plt.scatter(_mapped_x[\"Exam1\"], _mapped_x[\"Exam2\"],s = 25, c='red', marker='o', linewidths= .75, alpha= .5)\n",
    "\n",
    "# Rows with y = 1\n",
    "_mapped_x = df1.loc[df1[\"Status\"] == 1]\n",
    "plt.scatter(_mapped_x[\"Exam1\"], _mapped_x[\"Exam2\"],s = 50, c='blue', marker='+', linewidths= .75)\n",
    "\n",
    "plt.xlabel(\"Exam 1\")\n",
    "plt.ylabel(\"Exam 2\")\n",
    "\n",
    "plt.legend([\"Not Admitted\", \"Admitted\"], ncol = 2, bbox_to_anchor= (0.6, 1.15))\n",
    "\n",
    "\n",
    "plt.show()\n"
   ]
  },
  {
   "cell_type": "code",
   "execution_count": 10,
   "metadata": {},
   "outputs": [
    {
     "name": "stdout",
     "output_type": "stream",
     "text": [
      "First 5 Y vals: \n",
      "[[0.]\n",
      " [0.]\n",
      " [0.]\n",
      " [1.]\n",
      " [1.]]\n",
      "\n",
      "First 5 X vals: \n",
      "[[ 1.         34.62365962 78.02469282]\n",
      " [ 1.         30.28671077 43.89499752]\n",
      " [ 1.         35.84740877 72.90219803]\n",
      " [ 1.         60.18259939 86.3085521 ]\n",
      " [ 1.         79.03273605 75.34437644]]\n",
      "\n",
      "Theta: \n",
      "[[0.]\n",
      " [0.]\n",
      " [0.]]\n"
     ]
    }
   ],
   "source": [
    "# Initializing Arrays\n",
    "\n",
    "Y_arr = np.array(df1)[::, 2::]\n",
    "Y_arr.shape\n",
    "print(\"First 5 Y vals: \")\n",
    "print(Y_arr[:5:])\n",
    "\n",
    "col_size = Y_arr.size\n",
    "\n",
    "X_arr = np.array(df1)[::,:2:]\n",
    "X_arr = np.c_[np.ones((col_size, 1)), X_arr]\n",
    "print(\"\\nFirst 5 X vals: \")\n",
    "print(X_arr[:5:])\n",
    "\n",
    "\n",
    "init_theta = np.zeros((X_arr.shape[1], 1))\n",
    "print(\"\\nTheta: \")\n",
    "print(init_theta)"
   ]
  },
  {
   "cell_type": "markdown",
   "metadata": {},
   "source": [
    "## Gradient Descent"
   ]
  },
  {
   "cell_type": "code",
   "execution_count": 11,
   "metadata": {},
   "outputs": [
    {
     "name": "stdout",
     "output_type": "stream",
     "text": [
      "Thetas:\n",
      "[[-15.39517866]\n",
      " [  0.12825989]\n",
      " [  0.12247929]]\n",
      "\n",
      "Final Cost:\n",
      "0.2246541908824744\n"
     ]
    }
   ],
   "source": [
    "#Gradient Descent\n",
    "\n",
    "iterations = 1000000\n",
    "learning_rate = 0.001 \n",
    "\n",
    "theta, cost_history = gradientDecent(init_theta, X_arr, Y_arr, learning_rate, iterations)\n",
    "\n",
    "print(\"Thetas:\")\n",
    "print(theta)\n",
    "\n",
    "print(\"\\nFinal Cost:\")\n",
    "print(cost_history[-1][0])\n",
    "\n",
    "\n"
   ]
  },
  {
   "cell_type": "code",
   "execution_count": 12,
   "metadata": {},
   "outputs": [
    {
     "data": {
      "image/png": "[encoded data removed]",
      "text/plain": [
       "<Figure size 432x288 with 1 Axes>"
      ]
     },
     "metadata": {
      "needs_background": "light"
     },
     "output_type": "display_data"
    },
    {
     "name": "stdout",
     "output_type": "stream",
     "text": [
      "\n",
      "Final Cost:\n",
      "[0.22465419]\n"
     ]
    }
   ],
   "source": [
    "# Plotting cost history\n",
    "\n",
    "plt.plot(range(iterations), cost_history)\n",
    "plt.xlabel(\"Iterations\")\n",
    "plt.ylabel(\"Cost\")\n",
    "plt.title(\"Cost History\")\n",
    "plt.show()\n",
    "\n",
    "print(\"\\nFinal Cost:\")\n",
    "print(cost_history[-1])"
   ]
  },
  {
   "cell_type": "code",
   "execution_count": 13,
   "metadata": {},
   "outputs": [
    {
     "data": {
      "image/png": "[encoded data removed]",
      "text/plain": [
       "<Figure size 432x288 with 1 Axes>"
      ]
     },
     "metadata": {
      "needs_background": "light"
     },
     "output_type": "display_data"
    }
   ],
   "source": [
    "# Ploatting Data\n",
    "\n",
    "# Rows with y = 0\n",
    "_mapped_x = df1.loc[df1[\"Status\"] == 0]\n",
    "plt.scatter(_mapped_x[\"Exam1\"], _mapped_x[\"Exam2\"],s = 25, c='red', marker='o', linewidths= .75, alpha= .5)\n",
    "\n",
    "# Rows with y = 1\n",
    "_mapped_x = df1.loc[df1[\"Status\"] == 1]\n",
    "plt.scatter(_mapped_x[\"Exam1\"], _mapped_x[\"Exam2\"],s = 50, c='blue', marker='+', linewidths= .75)\n",
    "\n",
    "plt.xlabel(\"Exam 1\")\n",
    "plt.ylabel(\"Exam 2\")\n",
    "\n",
    "plt.legend([\"Not Admitted\", \"Admitted\"], ncol = 2, bbox_to_anchor= (0.6, 1.15))\n",
    "\n",
    "x_test = np.array([90, 30])\n",
    "# 0 = theta[0] + x1*theta[1] + x2*theta[2]\n",
    "y = -(1.0/theta[2]) * (theta[0] + theta[1]*x_test)\n",
    "plt.plot(x_test, y)\n",
    "\n",
    "plt.show()"
   ]
  },
  {
   "cell_type": "markdown",
   "metadata": {},
   "source": [
    "# Regularized Logistic Regression"
   ]
  },
  {
   "cell_type": "code",
   "execution_count": 14,
   "metadata": {},
   "outputs": [
    {
     "data": {
      "text/html": [
       "<div>\n",
       "<style scoped>\n",
       "    .dataframe tbody tr th:only-of-type {\n",
       "        vertical-align: middle;\n",
       "    }\n",
       "\n",
       "    .dataframe tbody tr th {\n",
       "        vertical-align: top;\n",
       "    }\n",
       "\n",
       "    .dataframe thead th {\n",
       "        text-align: right;\n",
       "    }\n",
       "</style>\n",
       "<table border=\"1\" class=\"dataframe\">\n",
       "  <thead>\n",
       "    <tr style=\"text-align: right;\">\n",
       "      <th></th>\n",
       "      <th>Exam1</th>\n",
       "      <th>Exam2</th>\n",
       "      <th>Status</th>\n",
       "    </tr>\n",
       "  </thead>\n",
       "  <tbody>\n",
       "    <tr>\n",
       "      <th>0</th>\n",
       "      <td>0.051267</td>\n",
       "      <td>0.69955</td>\n",
       "      <td>1</td>\n",
       "    </tr>\n",
       "    <tr>\n",
       "      <th>1</th>\n",
       "      <td>-0.092742</td>\n",
       "      <td>0.68494</td>\n",
       "      <td>1</td>\n",
       "    </tr>\n",
       "    <tr>\n",
       "      <th>2</th>\n",
       "      <td>-0.213710</td>\n",
       "      <td>0.69225</td>\n",
       "      <td>1</td>\n",
       "    </tr>\n",
       "    <tr>\n",
       "      <th>3</th>\n",
       "      <td>-0.375000</td>\n",
       "      <td>0.50219</td>\n",
       "      <td>1</td>\n",
       "    </tr>\n",
       "    <tr>\n",
       "      <th>4</th>\n",
       "      <td>-0.513250</td>\n",
       "      <td>0.46564</td>\n",
       "      <td>1</td>\n",
       "    </tr>\n",
       "  </tbody>\n",
       "</table>\n",
       "</div>"
      ],
      "text/plain": [
       "      Exam1    Exam2  Status\n",
       "0  0.051267  0.69955       1\n",
       "1 -0.092742  0.68494       1\n",
       "2 -0.213710  0.69225       1\n",
       "3 -0.375000  0.50219       1\n",
       "4 -0.513250  0.46564       1"
      ]
     },
     "execution_count": 14,
     "metadata": {},
     "output_type": "execute_result"
    }
   ],
   "source": [
    "df2 = pd.read_csv(\"ex2data2.txt\", header= None)\n",
    "df2.columns = [\"Exam1\", \"Exam2\", \"Status\"]\n",
    "df2.head()"
   ]
  },
  {
   "cell_type": "code",
   "execution_count": 15,
   "metadata": {},
   "outputs": [
    {
     "data": {
      "image/png": "[encoded data removed]",
      "text/plain": [
       "<Figure size 432x288 with 1 Axes>"
      ]
     },
     "metadata": {
      "needs_background": "light"
     },
     "output_type": "display_data"
    }
   ],
   "source": [
    "# Ploatting Data\n",
    "\n",
    "# Rows with y = 0\n",
    "_mapped_x = df2.loc[df2[\"Status\"] == 0]\n",
    "plt.scatter(_mapped_x[\"Exam1\"], _mapped_x[\"Exam2\"],s = 25, c='red', marker='o', linewidths= .75, alpha= .5)\n",
    "\n",
    "# Rows with y = 1\n",
    "_mapped_x = df2.loc[df2[\"Status\"] == 1]\n",
    "plt.scatter(_mapped_x[\"Exam1\"], _mapped_x[\"Exam2\"],s = 50, c='blue', marker='+', linewidths= .75)\n",
    "\n",
    "plt.xlabel(\"Exam 1\")\n",
    "plt.ylabel(\"Exam 2\")\n",
    "\n",
    "plt.legend([\"Not Admitted\", \"Admitted\"], ncol = 2, bbox_to_anchor= (0.6, 1.15))\n",
    "\n",
    "\n",
    "plt.show()"
   ]
  },
  {
   "cell_type": "code",
   "execution_count": 16,
   "metadata": {},
   "outputs": [
    {
     "name": "stdout",
     "output_type": "stream",
     "text": [
      "Y array:\n",
      "[[1.]\n",
      " [1.]\n",
      " [1.]\n",
      " [1.]\n",
      " [1.]]\n",
      "\n",
      "X array:\n",
      "[[ 0.051267  0.69955 ]\n",
      " [-0.092742  0.68494 ]\n",
      " [-0.21371   0.69225 ]\n",
      " [-0.375     0.50219 ]\n",
      " [-0.51325   0.46564 ]]\n"
     ]
    }
   ],
   "source": [
    "# Loading data into arrays\n",
    "\n",
    "Y_arr = np.array(df2)[:,2]\n",
    "Y_arr = Y_arr.reshape((Y_arr.size, 1))\n",
    "print(\"Y array:\")\n",
    "print(Y_arr[:5])\n",
    "\n",
    "X_arr = np.array(df2)[:,:2]\n",
    "X_arr = X_arr.reshape((Y_arr.size, 2))\n",
    "print(\"\\nX array:\")\n",
    "print(X_arr[:5])\n",
    "\n",
    "# # Adding ones column to feature matrix\n",
    "\n",
    "# X_arr = np.c_[np.ones((Y_arr.size, 1)), X_arr]\n",
    "# print(\"\\nX array with ones column:\")\n",
    "# print(X_arr[:5])\n",
    "\n"
   ]
  },
  {
   "cell_type": "code",
   "execution_count": 17,
   "metadata": {},
   "outputs": [
    {
     "name": "stdout",
     "output_type": "stream",
     "text": [
      "\n",
      "X array with feature mapping (first row):\n",
      "[[1.00000000e+00 5.12670000e-02 6.99550000e-01 3.58638299e-02\n",
      "  2.62830529e-03 4.89370203e-01 1.28621429e-03 1.34745327e-04\n",
      "  3.42338925e-01 4.61285705e-05 6.90798869e-06 2.39483195e-01\n",
      "  1.65434720e-06 3.54151856e-07 1.67530469e-01 5.93312266e-08\n",
      "  1.81563032e-08 1.17195940e-01 2.12784502e-09]]\n",
      "\n",
      "Starting theta vector: \n",
      "[[0.]\n",
      " [0.]\n",
      " [0.]\n",
      " [0.]\n",
      " [0.]\n",
      " [0.]\n",
      " [0.]\n",
      " [0.]\n",
      " [0.]\n",
      " [0.]\n",
      " [0.]\n",
      " [0.]\n",
      " [0.]\n",
      " [0.]\n",
      " [0.]\n",
      " [0.]\n",
      " [0.]\n",
      " [0.]\n",
      " [0.]]\n"
     ]
    }
   ],
   "source": [
    "# Mapping Features\n",
    "X_arr = map_features(X_arr[:,0], X_arr[:,1])\n",
    "\n",
    "print(\"\\nX array with feature mapping (first row):\")\n",
    "print(X_arr[:1, :])\n",
    "\n",
    "print(\"\\nStarting theta vector: \")\n",
    "theta = np.zeros((X_arr.shape[1], 1))\n",
    "print(theta)"
   ]
  },
  {
   "cell_type": "code",
   "execution_count": 18,
   "metadata": {},
   "outputs": [
    {
     "name": "stdout",
     "output_type": "stream",
     "text": [
      "Final cost: \n",
      "0.42812538488591523\n",
      "\n",
      "Final Theta: \n",
      "(19, 1)\n",
      "[[ 1.78256547]\n",
      " [ 0.79149163]\n",
      " [ 1.60440927]\n",
      " [-2.20151345]\n",
      " [-2.97387172]\n",
      " [-1.82189321]\n",
      " [-1.81347439]\n",
      " [-0.36072932]\n",
      " [-0.56739208]\n",
      " [-1.2045502 ]\n",
      " [-2.63932213]\n",
      " [-2.01703528]\n",
      " [-1.35690872]\n",
      " [-1.09009265]\n",
      " [-1.23348419]\n",
      " [-1.21524426]\n",
      " [-2.2717598 ]\n",
      " [-1.93286334]\n",
      " [-1.24959811]]\n"
     ]
    }
   ],
   "source": [
    "iterations = 126000\n",
    "learning_rate = 0.001\n",
    "regularization_factor = 0.0001 \n",
    "\n",
    "new_theta, cost_history = regularizedGradientDecent(theta, X_arr, Y_arr, learning_rate, iterations, regularization_factor)\n",
    "\n",
    "print(\"Final cost: \")\n",
    "print(cost_history[-1][0])\n",
    "\n",
    "print(\"\\nFinal Theta: \")\n",
    "print(new_theta.shape)\n",
    "print(new_theta)"
   ]
  },
  {
   "cell_type": "code",
   "execution_count": 19,
   "metadata": {},
   "outputs": [
    {
     "data": {
      "image/png": "[encoded data removed]",
      "text/plain": [
       "<Figure size 432x288 with 1 Axes>"
      ]
     },
     "metadata": {
      "needs_background": "light"
     },
     "output_type": "display_data"
    }
   ],
   "source": [
    "plt.plot(range(iterations), cost_history)\n",
    "plt.xlabel(\"iterations\")\n",
    "plt.ylabel(\"cost\")\n",
    "\n",
    "plt.show()"
   ]
  },
  {
   "cell_type": "code",
   "execution_count": 20,
   "metadata": {},
   "outputs": [
    {
     "data": {
      "image/png": "[encoded data removed]",
      "text/plain": [
       "<Figure size 432x288 with 1 Axes>"
      ]
     },
     "metadata": {
      "needs_background": "light"
     },
     "output_type": "display_data"
    }
   ],
   "source": [
    "_mapped_x = df2.loc[df2[\"Status\"] == 0]\n",
    "plt.scatter(_mapped_x[\"Exam1\"], _mapped_x[\"Exam2\"],s = 25, c='red', marker='o', linewidths= .75, alpha= .5)\n",
    "\n",
    "# Rows with y = 1\n",
    "_mapped_x = df2.loc[df2[\"Status\"] == 1]\n",
    "plt.scatter(_mapped_x[\"Exam1\"], _mapped_x[\"Exam2\"],s = 50, c='blue', marker='+', linewidths= .75)\n",
    "\n",
    "plt.xlabel(\"Exam 1\")\n",
    "plt.ylabel(\"Exam 2\")\n",
    "\n",
    "plt.legend([\"Not Admitted\", \"Admitted\"], ncol = 2, bbox_to_anchor= (0.6, 1.15))\n",
    "\n",
    "\n",
    "u = np.linspace(X_arr[:,1].min(), X_arr[:,1].max(), 500)\n",
    "v = np.linspace(X_arr[:,2].min(), X_arr[:,2].max(), 500)\n",
    "[U, V] = np.meshgrid(u, v)\n",
    "\n",
    "z = np.zeros(U.shape)\n",
    "\n",
    "for i in range(u.size):\n",
    "    this_x = np.c_[U[:,i], V[:,i]]\n",
    "    z[:, i] =  (map_features(this_x[:,0], this_x[:,1]) @ new_theta).flatten()\n",
    "    \n",
    "\n",
    "plt.contour(u, v, z)\n",
    "\n",
    "plt.show()"
   ]
  },
  {
   "cell_type": "code",
   "execution_count": null,
   "metadata": {},
   "outputs": [],
   "source": []
  }
 ],
 "metadata": {
  "interpreter": {
   "hash": "53df75c7fdd532bd6b4b9bbc549e02dfa4a0f99cff7c77bf319aef7222f5b560"
  },
  "kernelspec": {
   "display_name": "Python 3.9.2 64-bit",
   "name": "python3"
  },
  "language_info": {
   "codemirror_mode": {
    "name": "ipython",
    "version": 3
   },
   "file_extension": ".py",
   "mimetype": "text/x-python",
   "name": "python",
   "nbconvert_exporter": "python",
   "pygments_lexer": "ipython3",
   "version": "3.9.2"
  },
  "orig_nbformat": 4
 },
 "nbformat": 4,
 "nbformat_minor": 2
}
